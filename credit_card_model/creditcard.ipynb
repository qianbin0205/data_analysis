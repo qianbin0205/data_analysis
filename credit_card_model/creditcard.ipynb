{
 "cells": [
  {
   "cell_type": "code",
   "execution_count": 1,
   "metadata": {},
   "outputs": [],
   "source": [
    "import pandas as pd\n",
    "import seaborn as sns\n",
    "import matplotlib.pyplot as plt\n",
    "import numpy as np\n",
    "\n",
    "plt.rcParams['font.sans-serif'] = ['SimHei']  # 中文字体设置-黑体\n",
    "plt.rcParams['axes.unicode_minus'] = False  # 解决保存图像是负号'-'显示为方块的问题\n",
    "sns.set(font='SimHei')  # 解决Seaborn中文显示问题\n",
    "\n",
    "%matplotlib inline"
   ]
  },
  {
   "cell_type": "code",
   "execution_count": 2,
   "metadata": {},
   "outputs": [
    {
     "data": {
      "text/html": [
       "<div>\n",
       "<style scoped>\n",
       "    .dataframe tbody tr th:only-of-type {\n",
       "        vertical-align: middle;\n",
       "    }\n",
       "\n",
       "    .dataframe tbody tr th {\n",
       "        vertical-align: top;\n",
       "    }\n",
       "\n",
       "    .dataframe thead th {\n",
       "        text-align: right;\n",
       "    }\n",
       "</style>\n",
       "<table border=\"1\" class=\"dataframe\">\n",
       "  <thead>\n",
       "    <tr style=\"text-align: right;\">\n",
       "      <th></th>\n",
       "      <th>Time</th>\n",
       "      <th>V1</th>\n",
       "      <th>V2</th>\n",
       "      <th>V3</th>\n",
       "      <th>V4</th>\n",
       "      <th>V5</th>\n",
       "      <th>V6</th>\n",
       "      <th>V7</th>\n",
       "      <th>V8</th>\n",
       "      <th>V9</th>\n",
       "      <th>...</th>\n",
       "      <th>V21</th>\n",
       "      <th>V22</th>\n",
       "      <th>V23</th>\n",
       "      <th>V24</th>\n",
       "      <th>V25</th>\n",
       "      <th>V26</th>\n",
       "      <th>V27</th>\n",
       "      <th>V28</th>\n",
       "      <th>Amount</th>\n",
       "      <th>Class</th>\n",
       "    </tr>\n",
       "  </thead>\n",
       "  <tbody>\n",
       "    <tr>\n",
       "      <th>0</th>\n",
       "      <td>0.0</td>\n",
       "      <td>-1.359807</td>\n",
       "      <td>-0.072781</td>\n",
       "      <td>2.536347</td>\n",
       "      <td>1.378155</td>\n",
       "      <td>-0.338321</td>\n",
       "      <td>0.462388</td>\n",
       "      <td>0.239599</td>\n",
       "      <td>0.098698</td>\n",
       "      <td>0.363787</td>\n",
       "      <td>...</td>\n",
       "      <td>-0.018307</td>\n",
       "      <td>0.277838</td>\n",
       "      <td>-0.110474</td>\n",
       "      <td>0.066928</td>\n",
       "      <td>0.128539</td>\n",
       "      <td>-0.189115</td>\n",
       "      <td>0.133558</td>\n",
       "      <td>-0.021053</td>\n",
       "      <td>149.62</td>\n",
       "      <td>0</td>\n",
       "    </tr>\n",
       "    <tr>\n",
       "      <th>1</th>\n",
       "      <td>0.0</td>\n",
       "      <td>1.191857</td>\n",
       "      <td>0.266151</td>\n",
       "      <td>0.166480</td>\n",
       "      <td>0.448154</td>\n",
       "      <td>0.060018</td>\n",
       "      <td>-0.082361</td>\n",
       "      <td>-0.078803</td>\n",
       "      <td>0.085102</td>\n",
       "      <td>-0.255425</td>\n",
       "      <td>...</td>\n",
       "      <td>-0.225775</td>\n",
       "      <td>-0.638672</td>\n",
       "      <td>0.101288</td>\n",
       "      <td>-0.339846</td>\n",
       "      <td>0.167170</td>\n",
       "      <td>0.125895</td>\n",
       "      <td>-0.008983</td>\n",
       "      <td>0.014724</td>\n",
       "      <td>2.69</td>\n",
       "      <td>0</td>\n",
       "    </tr>\n",
       "    <tr>\n",
       "      <th>2</th>\n",
       "      <td>1.0</td>\n",
       "      <td>-1.358354</td>\n",
       "      <td>-1.340163</td>\n",
       "      <td>1.773209</td>\n",
       "      <td>0.379780</td>\n",
       "      <td>-0.503198</td>\n",
       "      <td>1.800499</td>\n",
       "      <td>0.791461</td>\n",
       "      <td>0.247676</td>\n",
       "      <td>-1.514654</td>\n",
       "      <td>...</td>\n",
       "      <td>0.247998</td>\n",
       "      <td>0.771679</td>\n",
       "      <td>0.909412</td>\n",
       "      <td>-0.689281</td>\n",
       "      <td>-0.327642</td>\n",
       "      <td>-0.139097</td>\n",
       "      <td>-0.055353</td>\n",
       "      <td>-0.059752</td>\n",
       "      <td>378.66</td>\n",
       "      <td>0</td>\n",
       "    </tr>\n",
       "  </tbody>\n",
       "</table>\n",
       "<p>3 rows × 31 columns</p>\n",
       "</div>"
      ],
      "text/plain": [
       "   Time        V1        V2        V3        V4        V5        V6        V7  \\\n",
       "0   0.0 -1.359807 -0.072781  2.536347  1.378155 -0.338321  0.462388  0.239599   \n",
       "1   0.0  1.191857  0.266151  0.166480  0.448154  0.060018 -0.082361 -0.078803   \n",
       "2   1.0 -1.358354 -1.340163  1.773209  0.379780 -0.503198  1.800499  0.791461   \n",
       "\n",
       "         V8        V9  ...         V21       V22       V23       V24  \\\n",
       "0  0.098698  0.363787  ...   -0.018307  0.277838 -0.110474  0.066928   \n",
       "1  0.085102 -0.255425  ...   -0.225775 -0.638672  0.101288 -0.339846   \n",
       "2  0.247676 -1.514654  ...    0.247998  0.771679  0.909412 -0.689281   \n",
       "\n",
       "        V25       V26       V27       V28  Amount  Class  \n",
       "0  0.128539 -0.189115  0.133558 -0.021053  149.62      0  \n",
       "1  0.167170  0.125895 -0.008983  0.014724    2.69      0  \n",
       "2 -0.327642 -0.139097 -0.055353 -0.059752  378.66      0  \n",
       "\n",
       "[3 rows x 31 columns]"
      ]
     },
     "execution_count": 2,
     "metadata": {},
     "output_type": "execute_result"
    }
   ],
   "source": [
    "source_data = pd.read_csv('creditcard.csv')\n",
    "source_data.head(3)"
   ]
  },
  {
   "cell_type": "code",
   "execution_count": 3,
   "metadata": {},
   "outputs": [],
   "source": [
    "# 机器学习是按数据大小来界定权重，Amount大重要程度大\n",
    "# 在这需要对Amount进行数据标准\n",
    "\n",
    "# 1、StandardScaler就是z-score方法  \n",
    "# 2、MaxMinScaler就是min_max方法\n",
    "# https://blog.csdn.net/zbc1090549839/article/details/44103801"
   ]
  },
  {
   "cell_type": "code",
   "execution_count": 4,
   "metadata": {},
   "outputs": [],
   "source": [
    "from sklearn.preprocessing import StandardScaler "
   ]
  },
  {
   "cell_type": "code",
   "execution_count": 5,
   "metadata": {},
   "outputs": [],
   "source": [
    "source_data['New_Amount'] =  StandardScaler().fit_transform(source_data['Amount'].values.reshape(-1,1))\n",
    "# StandardScaler参数只接受矩阵\n",
    "data = source_data.drop(columns=['Amount','Time'])"
   ]
  },
  {
   "cell_type": "code",
   "execution_count": 6,
   "metadata": {},
   "outputs": [
    {
     "data": {
      "text/plain": [
       "0    284315\n",
       "1       492\n",
       "Name: Class, dtype: int64"
      ]
     },
     "execution_count": 6,
     "metadata": {},
     "output_type": "execute_result"
    }
   ],
   "source": [
    "# 检查样本正负label差异\n",
    "pd.value_counts(source_data['Class'])\n"
   ]
  },
  {
   "cell_type": "code",
   "execution_count": 9,
   "metadata": {},
   "outputs": [],
   "source": [
    "from imblearn.over_sampling import SMOTE\n",
    "from sklearn.model_selection import train_test_split\n",
    "from sklearn.ensemble import RandomForestClassifier\n",
    "from sklearn.metrics import confusion_matrix"
   ]
  },
  {
   "cell_type": "code",
   "execution_count": 10,
   "metadata": {},
   "outputs": [],
   "source": [
    "# 数据集中正反lable相差悬殊，需进行重采样\n",
    "# 重采样常用方法有2种，1、欠采样 代表算法：EasyEnsemble 2、过采样 代表算法：SMOTE\n",
    "\n",
    "# https://www.cnblogs.com/hithink/p/7360477.html\n",
    "\n",
    "# 先对数据进行切分\n",
    "labels = data['Class']\n",
    "features = data.drop(columns=['Class'])\n",
    "\n",
    "x_train, x_test, y_train , y_test = train_test_split(features,\n",
    "                                                    labels,\n",
    "                                                    test_size = 0.3,\n",
    "                                                    random_state = 0)"
   ]
  },
  {
   "cell_type": "code",
   "execution_count": 11,
   "metadata": {},
   "outputs": [],
   "source": [
    "over_sample = SMOTE(random_state=0)\n",
    "os_x_train , os_y_train = over_sample.fit_sample(x_train ,y_train)"
   ]
  },
  {
   "cell_type": "code",
   "execution_count": 12,
   "metadata": {},
   "outputs": [],
   "source": [
    "os_x_train = pd.DataFrame(os_x_train)\n",
    "os_y_train = pd.DataFrame(os_y_train)"
   ]
  },
  {
   "cell_type": "code",
   "execution_count": 15,
   "metadata": {},
   "outputs": [],
   "source": [
    "from sklearn.linear_model import LogisticRegression\n",
    "from sklearn.cross_validation import KFold, cross_val_score\n",
    "from sklearn.metrics import confusion_matrix, recall_score, classification_report"
   ]
  },
  {
   "cell_type": "code",
   "execution_count": 16,
   "metadata": {},
   "outputs": [],
   "source": [
    "# 交叉验证准备，切分数据集\n",
    "\n",
    "def kfold_result_info(x,y,n=5):\n",
    "    os_x_train = x\n",
    "    os_x_train = y\n",
    "    \n",
    "    kfold = KFold(len(os_y_train),n_folds= n ,shuffle=False,random_state=0)\n",
    "    for num in range(5):\n",
    "    #   正则化惩罚项 l2: \n",
    "    #   loss = loss + 1/2w² w为明显波动情况，通过过W去判断模型loss值，越低模型效果越好 \n",
    "    #   正则化惩罚项 l1: \n",
    "    #   loss = loss + |w| w为明显波动情况，通过过W去判断模型loss值，越低模型效果越好 \n",
    "    #   c_param 为参数λ惩罚力度权重，代入不断尝试，构造参数\n",
    "#     https://www.cnblogs.com/jianxinzhou/p/4083921.html\n",
    "        c_param = 0.01 * 10 ** num\n",
    "        print('Regularization L1 Param %s :' %(c_param))\n",
    "        recall_list = []\n",
    "        \n",
    "        for i ,val_idx in enumerate(kfold, start=1):\n",
    "    #       建立逻辑回归测试模型\n",
    "            lr = LogisticRegression(C = c_param, penalty='l1')\n",
    "            lr.fit(os_x_train.iloc[val_idx[0],:], os_y_train.iloc[val_idx[0],:].values.ravel())\n",
    "            os_pre_result = lr.predict(os_x_train.iloc[val_idx[1],:].values)\n",
    "            # 模型评估标准 re_call = TP/(TP+NF)\n",
    "            re_call = recall_score(os_y_train.iloc[val_idx[1],:].values,os_pre_result)\n",
    "            recall_list.append(re_call)\n",
    "            \n",
    "            print('\\t Cross-val ReCall_Score: %s' % re_call)\n",
    "        \n",
    "        mean_score = np.mean(recall_list)\n",
    "        print('\\nRound%s Mean Score : %s' % (num + 1, mean_score))\n",
    "        print('\\n-----------------------------------------------')"
   ]
  },
  {
   "cell_type": "code",
   "execution_count": 13,
   "metadata": {},
   "outputs": [
    {
     "name": "stdout",
     "output_type": "stream",
     "text": [
      "Regularization L1 Param 0.01 :\n",
      "\t Cross-val ReCall_Score: 0.9285714285714286\n",
      "\t Cross-val ReCall_Score: 0.912\n",
      "\t Cross-val ReCall_Score: 0.9129742033383915\n",
      "\t Cross-val ReCall_Score: 0.8972703405479417\n",
      "\t Cross-val ReCall_Score: 0.8974462044795055\n",
      "\n",
      "Round1 Mean Score : 0.9096524353874536\n",
      "\n",
      "-----------------------------------------------\n",
      "Regularization L1 Param 0.1 :\n",
      "\t Cross-val ReCall_Score: 0.9285714285714286\n",
      "\t Cross-val ReCall_Score: 0.92\n",
      "\t Cross-val ReCall_Score: 0.9144410723318159\n",
      "\t Cross-val ReCall_Score: 0.8986270051628625\n",
      "\t Cross-val ReCall_Score: 0.8987651839662342\n",
      "\n",
      "Round2 Mean Score : 0.9120809380064683\n",
      "\n",
      "-----------------------------------------------\n",
      "Regularization L1 Param 1.0 :\n",
      "\t Cross-val ReCall_Score: 0.9285714285714286\n",
      "\t Cross-val ReCall_Score: 0.92\n",
      "\t Cross-val ReCall_Score: 0.9146686899342438\n",
      "\t Cross-val ReCall_Score: 0.8990164181541824\n",
      "\t Cross-val ReCall_Score: 0.8990792267011695\n",
      "\n",
      "Round3 Mean Score : 0.9122671526722049\n",
      "\n",
      "-----------------------------------------------\n",
      "Regularization L1 Param 10.0 :\n",
      "\t Cross-val ReCall_Score: 0.9285714285714286\n",
      "\t Cross-val ReCall_Score: 0.92\n",
      "\t Cross-val ReCall_Score: 0.9153009610520991\n",
      "\t Cross-val ReCall_Score: 0.898853115932016\n",
      "\t Cross-val ReCall_Score: 0.8991169118293617\n",
      "\n",
      "Round4 Mean Score : 0.9123684834769812\n",
      "\n",
      "-----------------------------------------------\n",
      "Regularization L1 Param 100.0 :\n",
      "\t Cross-val ReCall_Score: 0.9285714285714286\n",
      "\t Cross-val ReCall_Score: 0.92\n",
      "\t Cross-val ReCall_Score: 0.9147192716236723\n",
      "\t Cross-val ReCall_Score: 0.8991420352481566\n",
      "\t Cross-val ReCall_Score: 0.8991294735387592\n",
      "\n",
      "Round5 Mean Score : 0.9123124417964034\n",
      "\n",
      "-----------------------------------------------\n"
     ]
    }
   ],
   "source": [
    "# kfold_result_info(os_x_train,os_y_train)"
   ]
  },
  {
   "cell_type": "code",
   "execution_count": 17,
   "metadata": {},
   "outputs": [
    {
     "data": {
      "text/plain": [
       "LogisticRegression(C=100, class_weight=None, dual=False, fit_intercept=True,\n",
       "          intercept_scaling=1, max_iter=100, multi_class='ovr', n_jobs=1,\n",
       "          penalty='l1', random_state=None, solver='liblinear', tol=0.0001,\n",
       "          verbose=0, warm_start=False)"
      ]
     },
     "execution_count": 17,
     "metadata": {},
     "output_type": "execute_result"
    }
   ],
   "source": [
    "lr = LogisticRegression(C = 100, penalty='l1')\n",
    "lr.fit(os_x_train, os_y_train.values.ravel())\n",
    "# os_pre_result = lr.predict(x_test.values)\n",
    "# model_recall = recall_score(y_test.values,os_pre_result)\n",
    "# print(model_recall)"
   ]
  },
  {
   "cell_type": "code",
   "execution_count": 18,
   "metadata": {},
   "outputs": [],
   "source": [
    "import itertools\n",
    "def plot_confusion_matrix(cm, \n",
    "                          classes,\n",
    "                          normalize=False,\n",
    "                          title='Confusion matrix',\n",
    "                          cmap=plt.cm.Blues):\n",
    "    \"\"\"\n",
    "    This function prints and plots the confusion matrix.\n",
    "    Normalization can be applied by setting `normalize=True`.\n",
    "    \"\"\"\n",
    "    if normalize:\n",
    "        cm = cm.astype('float') / cm.sum(axis=1)[:, np.newaxis]\n",
    "#         print(\"Normalized confusion matrix\")\n",
    "    else:\n",
    "        pass\n",
    "#         print('Confusion matrix, without normalization')\n",
    "\n",
    "    im = plt.imshow(cm, interpolation='nearest', cmap=cmap, vmax = cm.max() / 3.)\n",
    "    plt.title(title,fontsize = 16)\n",
    "    plt.colorbar(im,shrink=0.63,pad=0.05) \n",
    "    tick_marks = np.arange(len(classes))\n",
    "    plt.xticks(tick_marks, classes, rotation=0,fontsize = 14)\n",
    "    plt.yticks(tick_marks, classes,fontsize = 14,rotation=90)\n",
    "\n",
    "#     fmt = '.2f' if normalize else 'd'\n",
    "    thresh = cm.max() / 2.\n",
    "    for i, j in itertools.product(range(cm.shape[0]), range(cm.shape[1])):\n",
    "        plt.text(j, i, format(cm[i, j]),\n",
    "                 horizontalalignment=\"center\",\n",
    "                 fontsize = 16,\n",
    "                 color=\"white\" if cm[i, j] > thresh else \"black\")\n",
    "\n",
    "    plt.tight_layout()\n",
    "#     plt.ylabel('True label',fontsize = 14)\n",
    "#     plt.xlabel('Predicted label',fontsize = 14)"
   ]
  },
  {
   "cell_type": "code",
   "execution_count": 24,
   "metadata": {},
   "outputs": [
    {
     "data": {
      "image/png": "[encoded data removed]",
      "text/plain": [
       "<matplotlib.figure.Figure at 0x21f217ce9e8>"
      ]
     },
     "metadata": {},
     "output_type": "display_data"
    }
   ],
   "source": [
    "# 模型评估标准 re_call = TP/(TP+NF)\n",
    "# https://www.jianshu.com/p/28ef55b779ca\n",
    "plt.figure(figsize=(12,6)) \n",
    "\n",
    "for i,t in enumerate(range(3,9),start=1):\n",
    "    thresholds = t / 10\n",
    "    y_proba = lr.predict_proba(x_test.values)[:,1] > thresholds\n",
    "    plt.subplot(2,3,i)\n",
    "    matrix = confusion_matrix(y_test, y_proba)\n",
    "    plot_confusion_matrix(matrix, classes=['Label_0','Label_1'],title = 'Thresholds > %s' % thresholds)\n",
    "#     print(classification_report(y_test, y_proba))"
   ]
  },
  {
   "cell_type": "code",
   "execution_count": 46,
   "metadata": {},
   "outputs": [
    {
     "data": {
      "text/plain": [
       "0.9837992339122856"
      ]
     },
     "execution_count": 46,
     "metadata": {},
     "output_type": "execute_result"
    }
   ],
   "source": [
    "from sklearn.metrics import roc_curve, auc\n",
    "# y = np.array([1,1,2,2])\n",
    "# pred = np.array([0.1, 0.4, 0.35, 0.8])\n",
    "fpr, tpr, thresholds = roc_curve(np.array(y_test), lr.predict_proba(x_test.values)[:,1], pos_label=1)\n",
    "fpr      # array([ 0. ,  0.5,  0.5,  1. ])\n",
    "tpr      # array([ 0.5,  0.5,  1. ,  1. ])\n",
    "thresholds      #array([ 0.8 ,  0.4 ,  0.35,  0.1 ])\n",
    "\n",
    "auc(fpr, tpr)"
   ]
  },
  {
   "cell_type": "code",
   "execution_count": 50,
   "metadata": {},
   "outputs": [
    {
     "ename": "AttributeError",
     "evalue": "'numpy.ndarray' object has no attribute 'rolling'",
     "output_type": "error",
     "traceback": [
      "\u001b[1;31m---------------------------------------------------------------------------\u001b[0m",
      "\u001b[1;31mAttributeError\u001b[0m                            Traceback (most recent call last)",
      "\u001b[1;32m<ipython-input-50-af1cd271b48f>\u001b[0m in \u001b[0;36m<module>\u001b[1;34m()\u001b[0m\n\u001b[1;32m----> 1\u001b[1;33m \u001b[0msns\u001b[0m\u001b[1;33m.\u001b[0m\u001b[0mpointplot\u001b[0m\u001b[1;33m(\u001b[0m\u001b[0mx\u001b[0m\u001b[1;33m=\u001b[0m\u001b[0mfpr\u001b[0m\u001b[1;33m.\u001b[0m\u001b[0mrolling\u001b[0m\u001b[1;33m.\u001b[0m\u001b[0mmean\u001b[0m\u001b[1;33m(\u001b[0m\u001b[1;36m100\u001b[0m\u001b[1;33m)\u001b[0m\u001b[1;33m,\u001b[0m \u001b[0my\u001b[0m\u001b[1;33m=\u001b[0m \u001b[0mtpr\u001b[0m\u001b[1;33m.\u001b[0m\u001b[0mrolling\u001b[0m\u001b[1;33m.\u001b[0m\u001b[0mmean\u001b[0m\u001b[1;33m(\u001b[0m\u001b[1;36m100\u001b[0m\u001b[1;33m)\u001b[0m\u001b[1;33m)\u001b[0m\u001b[1;33m\u001b[0m\u001b[0m\n\u001b[0m",
      "\u001b[1;31mAttributeError\u001b[0m: 'numpy.ndarray' object has no attribute 'rolling'"
     ]
    }
   ],
   "source": [
    "sns.pointplot(x=fpr.rolling.mean(100), y= tpr.rolling.mean(100))"
   ]
  },
  {
   "cell_type": "code",
   "execution_count": 34,
   "metadata": {},
   "outputs": [
    {
     "data": {
      "text/plain": [
       "85443"
      ]
     },
     "execution_count": 34,
     "metadata": {},
     "output_type": "execute_result"
    }
   ],
   "source": []
  },
  {
   "cell_type": "code",
   "execution_count": 36,
   "metadata": {},
   "outputs": [
    {
     "data": {
      "text/plain": [
       "array([0, 0, 0, ..., 0, 0, 0], dtype=int64)"
      ]
     },
     "execution_count": 36,
     "metadata": {},
     "output_type": "execute_result"
    }
   ],
   "source": []
  },
  {
   "cell_type": "code",
   "execution_count": 51,
   "metadata": {},
   "outputs": [
    {
     "data": {
      "text/plain": [
       "array([1., 1., 1., 1., 1., 1., 1., 1., 1., 1.])"
      ]
     },
     "execution_count": 51,
     "metadata": {},
     "output_type": "execute_result"
    }
   ],
   "source": [
    "np.ones(10)"
   ]
  },
  {
   "cell_type": "code",
   "execution_count": null,
   "metadata": {},
   "outputs": [],
   "source": []
  }
 ],
 "metadata": {
  "kernelspec": {
   "display_name": "Python 3",
   "language": "python",
   "name": "python3"
  },
  "language_info": {
   "codemirror_mode": {
    "name": "ipython",
    "version": 3
   },
   "file_extension": ".py",
   "mimetype": "text/x-python",
   "name": "python",
   "nbconvert_exporter": "python",
   "pygments_lexer": "ipython3",
   "version": "3.5.2"
  }
 },
 "nbformat": 4,
 "nbformat_minor": 2
}
