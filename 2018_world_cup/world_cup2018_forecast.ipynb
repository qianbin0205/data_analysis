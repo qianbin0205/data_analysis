{
 "cells": [
  {
   "cell_type": "code",
   "execution_count": 83,
   "metadata": {},
   "outputs": [],
   "source": [
    "import pandas as pd"
   ]
  },
  {
   "cell_type": "code",
   "execution_count": 126,
   "metadata": {
    "scrolled": true
   },
   "outputs": [
    {
     "data": {
      "text/html": [
       "<div>\n",
       "<style scoped>\n",
       "    .dataframe tbody tr th:only-of-type {\n",
       "        vertical-align: middle;\n",
       "    }\n",
       "\n",
       "    .dataframe tbody tr th {\n",
       "        vertical-align: top;\n",
       "    }\n",
       "\n",
       "    .dataframe thead th {\n",
       "        text-align: right;\n",
       "    }\n",
       "</style>\n",
       "<table border=\"1\" class=\"dataframe\">\n",
       "  <thead>\n",
       "    <tr style=\"text-align: right;\">\n",
       "      <th></th>\n",
       "      <th>date</th>\n",
       "      <th>home_team</th>\n",
       "      <th>away_team</th>\n",
       "      <th>home_score</th>\n",
       "      <th>away_score</th>\n",
       "      <th>tournament</th>\n",
       "      <th>city</th>\n",
       "      <th>country</th>\n",
       "      <th>neutral</th>\n",
       "    </tr>\n",
       "  </thead>\n",
       "  <tbody>\n",
       "    <tr>\n",
       "      <th>0</th>\n",
       "      <td>1872-11-30</td>\n",
       "      <td>Scotland</td>\n",
       "      <td>England</td>\n",
       "      <td>0</td>\n",
       "      <td>0</td>\n",
       "      <td>Friendly</td>\n",
       "      <td>Glasgow</td>\n",
       "      <td>Scotland</td>\n",
       "      <td>False</td>\n",
       "    </tr>\n",
       "    <tr>\n",
       "      <th>1</th>\n",
       "      <td>1873-03-08</td>\n",
       "      <td>England</td>\n",
       "      <td>Scotland</td>\n",
       "      <td>4</td>\n",
       "      <td>2</td>\n",
       "      <td>Friendly</td>\n",
       "      <td>London</td>\n",
       "      <td>England</td>\n",
       "      <td>False</td>\n",
       "    </tr>\n",
       "    <tr>\n",
       "      <th>2</th>\n",
       "      <td>1874-03-07</td>\n",
       "      <td>Scotland</td>\n",
       "      <td>England</td>\n",
       "      <td>2</td>\n",
       "      <td>1</td>\n",
       "      <td>Friendly</td>\n",
       "      <td>Glasgow</td>\n",
       "      <td>Scotland</td>\n",
       "      <td>False</td>\n",
       "    </tr>\n",
       "    <tr>\n",
       "      <th>3</th>\n",
       "      <td>1875-03-06</td>\n",
       "      <td>England</td>\n",
       "      <td>Scotland</td>\n",
       "      <td>2</td>\n",
       "      <td>2</td>\n",
       "      <td>Friendly</td>\n",
       "      <td>London</td>\n",
       "      <td>England</td>\n",
       "      <td>False</td>\n",
       "    </tr>\n",
       "    <tr>\n",
       "      <th>4</th>\n",
       "      <td>1876-03-04</td>\n",
       "      <td>Scotland</td>\n",
       "      <td>England</td>\n",
       "      <td>3</td>\n",
       "      <td>0</td>\n",
       "      <td>Friendly</td>\n",
       "      <td>Glasgow</td>\n",
       "      <td>Scotland</td>\n",
       "      <td>False</td>\n",
       "    </tr>\n",
       "  </tbody>\n",
       "</table>\n",
       "</div>"
      ],
      "text/plain": [
       "         date home_team away_team  home_score  away_score tournament     city  \\\n",
       "0  1872-11-30  Scotland   England           0           0   Friendly  Glasgow   \n",
       "1  1873-03-08   England  Scotland           4           2   Friendly   London   \n",
       "2  1874-03-07  Scotland   England           2           1   Friendly  Glasgow   \n",
       "3  1875-03-06   England  Scotland           2           2   Friendly   London   \n",
       "4  1876-03-04  Scotland   England           3           0   Friendly  Glasgow   \n",
       "\n",
       "    country  neutral  \n",
       "0  Scotland    False  \n",
       "1   England    False  \n",
       "2  Scotland    False  \n",
       "3   England    False  \n",
       "4  Scotland    False  "
      ]
     },
     "execution_count": 126,
     "metadata": {},
     "output_type": "execute_result"
    }
   ],
   "source": [
    "# 1872-11-30 至今的国际比赛数据\n",
    "result = pd.read_csv(r'results.csv')\n",
    "martchs_set = result[result['date'] > '2008-01-01']\n",
    "result.head()"
   ]
  },
  {
   "cell_type": "code",
   "execution_count": 127,
   "metadata": {},
   "outputs": [],
   "source": [
    "match_schedule = pd.read_csv(r'fifa-world-cup-2018-RussianStandardTime.csv')\n",
    "group_teams = match_schedule.dropna(subset=['Group'])\n",
    "world_cup_teams = pd.concat((group_teams['Home Team'],group_teams['Away Team'])).drop_duplicates()\n",
    "team_list = world_cup_teams.reset_index(drop=True).tolist()"
   ]
  },
  {
   "cell_type": "code",
   "execution_count": 128,
   "metadata": {},
   "outputs": [],
   "source": [
    "sr_df = pd.read_excel(r'world_cup2018_social_and_world_rank.xlsx')\n",
    "for c in ['win_cnt_10year', 'match_cnt_10year', 'ratio_10year']:\n",
    "    sr_df[c] = None"
   ]
  },
  {
   "cell_type": "code",
   "execution_count": 129,
   "metadata": {},
   "outputs": [],
   "source": [
    "his_result = martchs_set[martchs_set['home_team'].isin(world_cup_teams) & martchs_set['away_team'].isin(world_cup_teams)]\n",
    "his_result = his_result.reset_index(drop=True)\n",
    "\n",
    "wd_tm_status = {}\n",
    "for x in team_list:\n",
    "#     测试球队是否都存在与名单中\n",
    "    test_team_str = his_result[(his_result['home_team'] == x) | ((his_result['away_team'] == x))]\n",
    "    if len(test_team_str.index) == 0:\n",
    "        print(x, 'team not find his_match')\n",
    "        break\n",
    "    all_diff = []\n",
    "    \n",
    "#     统计球队的胜率及场次\n",
    "    home_team_result = his_result[(his_result['home_team'] == x)]\n",
    "    home_diff = (home_team_result['home_score'] - home_team_result['away_score']).tolist()\n",
    "    all_diff.extend(home_diff)\n",
    "    away_team_result = his_result[(his_result['away_team'] == x)]\n",
    "    away_diff = (home_team_result['away_score'] - home_team_result['home_score']).tolist()\n",
    "    all_diff.extend(away_diff)\n",
    "\n",
    "    index = sr_df[sr_df['country_en'] == x].index\n",
    "    sr_df.loc[index,'win_cnt_10year'] = len([x for x in all_diff if x > 0])\n",
    "    sr_df.loc[index,'match_cnt_10year'] = len(all_diff)\n",
    "\n",
    "sr_df['ratio_10year'] = round(sr_df['win_cnt_10year']/sr_df['match_cnt_10year'],3)"
   ]
  },
  {
   "cell_type": "code",
   "execution_count": 131,
   "metadata": {
    "scrolled": false
   },
   "outputs": [
    {
     "data": {
      "text/html": [
       "<div>\n",
       "<style scoped>\n",
       "    .dataframe tbody tr th:only-of-type {\n",
       "        vertical-align: middle;\n",
       "    }\n",
       "\n",
       "    .dataframe tbody tr th {\n",
       "        vertical-align: top;\n",
       "    }\n",
       "\n",
       "    .dataframe thead th {\n",
       "        text-align: right;\n",
       "    }\n",
       "</style>\n",
       "<table border=\"1\" class=\"dataframe\">\n",
       "  <thead>\n",
       "    <tr style=\"text-align: right;\">\n",
       "      <th></th>\n",
       "      <th>country_en</th>\n",
       "      <th>country_ch</th>\n",
       "      <th>world_rank</th>\n",
       "      <th>social status(100mGBP)</th>\n",
       "      <th>win_cnt_10year</th>\n",
       "      <th>match_cnt_10year</th>\n",
       "      <th>ratio_10year</th>\n",
       "    </tr>\n",
       "  </thead>\n",
       "  <tbody>\n",
       "    <tr>\n",
       "      <th>0</th>\n",
       "      <td>Germany</td>\n",
       "      <td>德国</td>\n",
       "      <td>1</td>\n",
       "      <td>8.72</td>\n",
       "      <td>27</td>\n",
       "      <td>66</td>\n",
       "      <td>0.409</td>\n",
       "    </tr>\n",
       "    <tr>\n",
       "      <th>1</th>\n",
       "      <td>Brazil</td>\n",
       "      <td>巴西</td>\n",
       "      <td>2</td>\n",
       "      <td>9.50</td>\n",
       "      <td>28</td>\n",
       "      <td>66</td>\n",
       "      <td>0.424</td>\n",
       "    </tr>\n",
       "    <tr>\n",
       "      <th>2</th>\n",
       "      <td>Belgium</td>\n",
       "      <td>比利时</td>\n",
       "      <td>3</td>\n",
       "      <td>7.58</td>\n",
       "      <td>16</td>\n",
       "      <td>40</td>\n",
       "      <td>0.400</td>\n",
       "    </tr>\n",
       "    <tr>\n",
       "      <th>3</th>\n",
       "      <td>Portugal</td>\n",
       "      <td>葡萄牙</td>\n",
       "      <td>4</td>\n",
       "      <td>4.68</td>\n",
       "      <td>18</td>\n",
       "      <td>50</td>\n",
       "      <td>0.360</td>\n",
       "    </tr>\n",
       "    <tr>\n",
       "      <th>4</th>\n",
       "      <td>Argentina</td>\n",
       "      <td>阿根廷</td>\n",
       "      <td>5</td>\n",
       "      <td>7.08</td>\n",
       "      <td>29</td>\n",
       "      <td>72</td>\n",
       "      <td>0.403</td>\n",
       "    </tr>\n",
       "  </tbody>\n",
       "</table>\n",
       "</div>"
      ],
      "text/plain": [
       "  country_en country_ch  world_rank  social status(100mGBP)  win_cnt_10year  \\\n",
       "0    Germany         德国           1                    8.72              27   \n",
       "1     Brazil         巴西           2                    9.50              28   \n",
       "2    Belgium        比利时           3                    7.58              16   \n",
       "3   Portugal        葡萄牙           4                    4.68              18   \n",
       "4  Argentina        阿根廷           5                    7.08              29   \n",
       "\n",
       "   match_cnt_10year  ratio_10year  \n",
       "0                66         0.409  \n",
       "1                66         0.424  \n",
       "2                40         0.400  \n",
       "3                50         0.360  \n",
       "4                72         0.403  "
      ]
     },
     "execution_count": 131,
     "metadata": {},
     "output_type": "execute_result"
    }
   ],
   "source": [
    "sr_df = sr_df.sort_values(by='world_rank').reset_index(drop=True)\n",
    "sr_df.head()"
   ]
  },
  {
   "cell_type": "code",
   "execution_count": 134,
   "metadata": {},
   "outputs": [],
   "source": [
    "sr_df.to_excel('sr_df.xlsx')"
   ]
  },
  {
   "cell_type": "code",
   "execution_count": 145,
   "metadata": {},
   "outputs": [
    {
     "data": {
      "text/plain": [
       "-0.4999999999999999"
      ]
     },
     "execution_count": 145,
     "metadata": {},
     "output_type": "execute_result"
    }
   ],
   "source": []
  },
  {
   "cell_type": "code",
   "execution_count": null,
   "metadata": {},
   "outputs": [],
   "source": []
  },
  {
   "cell_type": "code",
   "execution_count": null,
   "metadata": {},
   "outputs": [],
   "source": []
  },
  {
   "cell_type": "code",
   "execution_count": null,
   "metadata": {},
   "outputs": [],
   "source": []
  },
  {
   "cell_type": "code",
   "execution_count": null,
   "metadata": {},
   "outputs": [],
   "source": []
  },
  {
   "cell_type": "code",
   "execution_count": null,
   "metadata": {},
   "outputs": [],
   "source": []
  }
 ],
 "metadata": {
  "kernelspec": {
   "display_name": "Python 3",
   "language": "python",
   "name": "python3"
  },
  "language_info": {
   "codemirror_mode": {
    "name": "ipython",
    "version": 3
   },
   "file_extension": ".py",
   "mimetype": "text/x-python",
   "name": "python",
   "nbconvert_exporter": "python",
   "pygments_lexer": "ipython3",
   "version": "3.5.2"
  }
 },
 "nbformat": 4,
 "nbformat_minor": 2
}
