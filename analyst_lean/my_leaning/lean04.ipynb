{
 "cells": [
  {
   "cell_type": "code",
   "execution_count": 1,
   "metadata": {
    "collapsed": true
   },
   "outputs": [
    {
     "name": "stdout",
     "output_type": "stream",
     "text": [
      "2017-11-06 22:07:56.002437\n2017 11 6 22:07:56.002437\n"
     ]
    }
   ],
   "source": [
    "from datetime import datetime\n",
    "\n",
    "now = datetime.now()\n",
    "print(datetime.now())\n",
    "print(now.year, now.month, now.day, now.time())"
   ]
  },
  {
   "cell_type": "code",
   "execution_count": 14,
   "metadata": {},
   "outputs": [
    {
     "name": "stdout",
     "output_type": "stream",
     "text": [
      "160 days, 2:00:00\n160\n7200\n"
     ]
    }
   ],
   "source": [
    "diff = datetime(2017, 11, 6, 17) - datetime(2017, 5, 30, 15)\n",
    "print(diff)\n",
    "print(diff.days)\n",
    "print(diff.seconds)\n",
    "# 这里是7200秒2小时"
   ]
  },
  {
   "cell_type": "code",
   "execution_count": 20,
   "metadata": {},
   "outputs": [
    {
     "name": "stdout",
     "output_type": "stream",
     "text": [
      "2017-11-06 00:00:00 <class 'str'>\n06-11-2017\n"
     ]
    }
   ],
   "source": [
    "dt_obj = datetime(2017, 11, 6)\n",
    "str_obj = str(dt_obj)\n",
    "str_obj2 = dt_obj.strftime('%d-%m-%Y')\n",
    "\n",
    "print(str_obj, type(str_obj))\n",
    "print(str_obj2)"
   ]
  },
  {
   "cell_type": "code",
   "execution_count": 24,
   "metadata": {},
   "outputs": [
    {
     "name": "stdout",
     "output_type": "stream",
     "text": [
      "2017-11-06 00:00:00 <class 'datetime.datetime'>\n"
     ]
    }
   ],
   "source": [
    "dt_str = '2017-11-06'\n",
    "dt_obj3 = datetime.strptime(dt_str, '%Y-%m-%d')\n",
    "print(dt_obj3, type(dt_obj3))"
   ]
  },
  {
   "cell_type": "code",
   "execution_count": 29,
   "metadata": {},
   "outputs": [
    {
     "name": "stdout",
     "output_type": "stream",
     "text": [
      "2017-02-18 00:00:00 <class 'datetime.datetime'>\n"
     ]
    }
   ],
   "source": [
    "from dateutil.parser import parse\n",
    "\n",
    "dt_str2 = '18-2-2017'\n",
    "dt_obj4 = parse(dt_str2)\n",
    "print(dt_obj4, type(dt_obj4))"
   ]
  },
  {
   "cell_type": "code",
   "execution_count": 56,
   "metadata": {},
   "outputs": [
    {
     "name": "stdout",
     "output_type": "stream",
     "text": [
      "0      2017-2-8\n1      2016/7/3\n2    2007/09/12\n3    2001-09-09\n4          None\nName: course_time, dtype: object\n0   2017-02-08\n1   2016-07-03\n2   2007-09-12\n3   2001-09-09\n4          NaT\nName: course_time, dtype: datetime64[ns]\n"
     ]
    }
   ],
   "source": [
    "import pandas as pd\n",
    "\n",
    "dt_ser = pd.Series(['2017-2-8', '2016/7/3', '2007/09/12',\n",
    "                    '2001-09-09', None],\n",
    "                   name='course_time')\n",
    "print(dt_ser)\n",
    "dt_obj5 = pd.to_datetime(dt_ser)\n",
    "print(dt_obj5)"
   ]
  },
  {
   "cell_type": "code",
   "execution_count": 57,
   "metadata": {},
   "outputs": [
    {
     "name": "stdout",
     "output_type": "stream",
     "text": [
      "1   2016-07-03\n2   2007-09-12\n3   2001-09-09\n4          NaT\nName: course_time, dtype: datetime64[ns]\n"
     ]
    }
   ],
   "source": [
    "dt_obj5 = dt_obj5.drop(0, axis=0, inplace=False)\n",
    "# dt_obj5.drop(0, axis=0, inplace=True)\n",
    "# iplace=ture真实删除\n",
    "print(dt_obj5)"
   ]
  },
  {
   "cell_type": "code",
   "execution_count": 72,
   "metadata": {},
   "outputs": [
    {
     "name": "stdout",
     "output_type": "stream",
     "text": [
      "DatetimeIndex(['2017-11-12', '2017-11-19', '2017-11-26', '2017-12-03',\n               '2017-12-10', '2017-12-17', '2017-12-24', '2017-12-31',\n               '2018-01-07', '2018-01-14'],\n              dtype='datetime64[ns]', freq='W-SUN')\n2017-11-12    1.561397\n2017-11-19   -0.036908\n2017-11-26    0.480059\n2017-12-03   -0.259122\n2017-12-10   -2.177528\n2017-12-17   -0.838538\n2017-12-24    0.529859\n2017-12-31    1.050090\n2018-01-07   -2.076962\n2018-01-14   -0.147285\nFreq: W-SUN, dtype: float64\n"
     ]
    }
   ],
   "source": [
    "dt_ser = pd.date_range('2017-11-6', periods=10, freq='W')\n",
    "print(dt_ser)\n",
    "df = pd.Series(pd.np.random.randn(len(dt_ser)), index=dt_ser)\n",
    "print(df)"
   ]
  },
  {
   "cell_type": "code",
   "execution_count": 85,
   "metadata": {},
   "outputs": [
    {
     "name": "stdout",
     "output_type": "stream",
     "text": [
      "1.56139741867\n-2.17752751918\n-2.17752751918\n-2.17752751918\n2017-12-03   -0.259122\n2017-12-10   -2.177528\n2017-12-17   -0.838538\n2017-12-24    0.529859\n2017-12-31    1.050090\nFreq: W-SUN, dtype: float64\n2018-01-07   -2.076962\n2018-01-14   -0.147285\nFreq: W-SUN, dtype: float64\n2018-01-07   -2.076962\n2018-01-14   -0.147285\nFreq: W-SUN, dtype: float64\n2018-01-07   -2.076962\n2018-01-14   -0.147285\nFreq: W-SUN, dtype: float64\n"
     ]
    }
   ],
   "source": [
    "print(df[0])\n",
    "print(df['2017-12-10'])\n",
    "print(df['20171210'])\n",
    "print(df[datetime(2017, 12, 10)])\n",
    "print(df['2017-12'])\n",
    "print(df['2018']) \n",
    "print(df['2018':])"
   ]
  },
  {
   "cell_type": "code",
   "execution_count": 87,
   "metadata": {},
   "outputs": [
    {
     "name": "stdout",
     "output_type": "stream",
     "text": [
      "2018-01-07   -2.076962\n2018-01-14   -0.147285\nFreq: W-SUN, dtype: float64\n2017-11-12    1.561397\n2017-11-19   -0.036908\n2017-11-26    0.480059\n2017-12-03   -0.259122\n2017-12-10   -2.177528\n2017-12-17   -0.838538\n2017-12-24    0.529859\n2017-12-31    1.050090\nFreq: W-SUN, dtype: float64\n"
     ]
    }
   ],
   "source": [
    "print(df.truncate(before='2018'))\n",
    "print(df.truncate(after='2018'))"
   ]
  },
  {
   "cell_type": "code",
   "execution_count": 93,
   "metadata": {},
   "outputs": [
    {
     "name": "stdout",
     "output_type": "stream",
     "text": [
      "DatetimeIndex(['2017-11-06 00:00:30', '2017-11-07 00:00:30',\n               '2017-11-08 00:00:30', '2017-11-09 00:00:30',\n               '2017-11-10 00:00:30', '2017-11-11 00:00:30',\n               '2017-11-12 00:00:30', '2017-11-13 00:00:30',\n               '2017-11-14 00:00:30', '2017-11-15 00:00:30'],\n              dtype='datetime64[ns]', freq='D')\nDatetimeIndex(['2017-11-06', '2017-11-07', '2017-11-08', '2017-11-09',\n               '2017-11-10', '2017-11-11', '2017-11-12', '2017-11-13',\n               '2017-11-14', '2017-11-15'],\n              dtype='datetime64[ns]', freq='D')\n"
     ]
    }
   ],
   "source": [
    "dt_ser = pd.date_range('2017-11-6 00:00:30', periods=10, freq='D')\n",
    "print(dt_ser)\n",
    "dt_ser = pd.date_range('2017-11-6 00:00:30', periods=10,\n",
    "                       freq='D',normalize=True)\n",
    "print(dt_ser)"
   ]
  },
  {
   "cell_type": "code",
   "execution_count": 102,
   "metadata": {},
   "outputs": [
    {
     "name": "stdout",
     "output_type": "stream",
     "text": [
      "DatetimeIndex(['2017-11-06 00:00:30', '2017-11-13 03:00:30',\n               '2017-11-20 06:00:30', '2017-11-27 09:00:30',\n               '2017-12-04 12:00:30', '2017-12-11 15:00:30',\n               '2017-12-18 18:00:30', '2017-12-25 21:00:30',\n               '2018-01-02 00:00:30', '2018-01-09 03:00:30'],\n              dtype='datetime64[ns]', freq='171H')\n"
     ]
    }
   ],
   "source": [
    "# 偏移量\n",
    "dt_offset = pd.tseries.offsets.Week(1) + pd.tseries.offsets.Hour(3) \n",
    "dt_ser = pd.date_range('2017-11-6 00:00:30', periods=10, freq=dt_offset)\n",
    "print(dt_ser)"
   ]
  },
  {
   "cell_type": "code",
   "execution_count": 110,
   "metadata": {},
   "outputs": [
    {
     "name": "stdout",
     "output_type": "stream",
     "text": [
      "2017-11-12   -0.561919\n2017-11-19   -0.272388\n2017-11-26   -0.043290\n2017-12-03   -0.325043\n2017-12-10   -0.327715\n2017-12-17   -1.726720\n2017-12-24    0.378695\n2017-12-31   -0.747869\n2018-01-07    0.504419\n2018-01-14   -1.118065\nFreq: W-SUN, dtype: float64\n2017-11-12         NaN\n2017-11-19   -0.561919\n2017-11-26   -0.272388\n2017-12-03   -0.043290\n2017-12-10   -0.325043\n2017-12-17   -0.327715\n2017-12-24   -1.726720\n2017-12-31    0.378695\n2018-01-07   -0.747869\n2018-01-14    0.504419\nFreq: W-SUN, dtype: float64 2017-11-12   -0.272388\n2017-11-19   -0.043290\n2017-11-26   -0.325043\n2017-12-03   -0.327715\n2017-12-10   -1.726720\n2017-12-17    0.378695\n2017-12-24   -0.747869\n2017-12-31    0.504419\n2018-01-07   -1.118065\n2018-01-14         NaN\nFreq: W-SUN, dtype: float64\n"
     ]
    }
   ],
   "source": [
    "dt_ser = pd.date_range('2017-11-6', periods=10, freq='W')\n",
    "df = pd.Series(pd.np.random.randn(len(dt_ser)), index=dt_ser)\n",
    "print(df)\n",
    "# 向下错位\n",
    "# 向上错位\n",
    "print(df.shift(1),df.shift(-1))"
   ]
  },
  {
   "cell_type": "code",
   "execution_count": null,
   "metadata": {},
   "outputs": [],
   "source": [
    ""
   ]
  }
 ],
 "metadata": {
  "kernelspec": {
   "display_name": "Python 2",
   "language": "python",
   "name": "python2"
  },
  "language_info": {
   "codemirror_mode": {
    "name": "ipython",
    "version": 2
   },
   "file_extension": ".py",
   "mimetype": "text/x-python",
   "name": "python",
   "nbconvert_exporter": "python",
   "pygments_lexer": "ipython2",
   "version": "2.7.6"
  }
 },
 "nbformat": 4,
 "nbformat_minor": 0
}
