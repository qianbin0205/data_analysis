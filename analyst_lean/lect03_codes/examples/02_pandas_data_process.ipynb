{
 "cells": [
  {
   "cell_type": "markdown",
   "metadata": {},
   "source": [
    "# Pandas数据操作"
   ]
  },
  {
   "cell_type": "code",
   "execution_count": 1,
   "metadata": {
    "collapsed": true
   },
   "outputs": [],
   "source": [
    "import pandas as pd"
   ]
  },
  {
   "cell_type": "markdown",
   "metadata": {},
   "source": [
    "* Series索引"
   ]
  },
  {
   "cell_type": "code",
   "execution_count": 2,
   "metadata": {
    "collapsed": false
   },
   "outputs": [
    {
     "name": "stdout",
     "output_type": "stream",
     "text": [
      "a    0\n",
      "b    1\n",
      "c    2\n",
      "d    3\n",
      "e    4\n",
      "dtype: int32\n"
     ]
    }
   ],
   "source": [
    "ser_obj = pd.Series(range(5), index = ['a', 'b', 'c', 'd', 'e'])\n",
    "print(ser_obj.head())"
   ]
  },
  {
   "cell_type": "code",
   "execution_count": 3,
   "metadata": {
    "collapsed": false
   },
   "outputs": [
    {
     "name": "stdout",
     "output_type": "stream",
     "text": [
      "0\n",
      "0\n"
     ]
    }
   ],
   "source": [
    "# 行索引\n",
    "print(ser_obj['a'])\n",
    "print(ser_obj[0])"
   ]
  },
  {
   "cell_type": "code",
   "execution_count": 4,
   "metadata": {
    "collapsed": false
   },
   "outputs": [
    {
     "name": "stdout",
     "output_type": "stream",
     "text": [
      "b    1\n",
      "c    2\n",
      "dtype: int32\n",
      "b    1\n",
      "c    2\n",
      "d    3\n",
      "dtype: int32\n"
     ]
    }
   ],
   "source": [
    "# 切片索引\n",
    "print(ser_obj[1:3])\n",
    "print(ser_obj['b':'d'])"
   ]
  },
  {
   "cell_type": "code",
   "execution_count": 5,
   "metadata": {
    "collapsed": false
   },
   "outputs": [
    {
     "name": "stdout",
     "output_type": "stream",
     "text": [
      "a    0\n",
      "c    2\n",
      "e    4\n",
      "dtype: int32\n",
      "a    0\n",
      "e    4\n",
      "dtype: int32\n"
     ]
    }
   ],
   "source": [
    "# 不连续索引\n",
    "print(ser_obj[[0, 2, 4]])\n",
    "print(ser_obj[['a', 'e']])"
   ]
  },
  {
   "cell_type": "code",
   "execution_count": 6,
   "metadata": {
    "collapsed": false
   },
   "outputs": [
    {
     "name": "stdout",
     "output_type": "stream",
     "text": [
      "a    False\n",
      "b    False\n",
      "c    False\n",
      "d     True\n",
      "e     True\n",
      "dtype: bool\n",
      "d    3\n",
      "e    4\n",
      "dtype: int32\n",
      "d    3\n",
      "e    4\n",
      "dtype: int32\n"
     ]
    }
   ],
   "source": [
    "# 布尔索引\n",
    "ser_bool = ser_obj > 2\n",
    "print(ser_bool)\n",
    "print(ser_obj[ser_bool])\n",
    "\n",
    "print(ser_obj[ser_obj > 2])"
   ]
  },
  {
   "cell_type": "markdown",
   "metadata": {},
   "source": [
    "* DataFrame索引"
   ]
  },
  {
   "cell_type": "code",
   "execution_count": 7,
   "metadata": {
    "collapsed": false
   },
   "outputs": [
    {
     "name": "stdout",
     "output_type": "stream",
     "text": [
      "          a         b         c         d\n",
      "0 -0.595692  0.813699 -0.551327 -0.059703\n",
      "1  0.339194 -2.335579  0.230472 -0.680213\n",
      "2 -0.252306  0.212406 -0.979523  0.408522\n",
      "3  0.216677  0.574524 -0.819607  2.170009\n",
      "4 -1.099175 -0.665488  0.391421 -0.400642\n"
     ]
    }
   ],
   "source": [
    "import numpy as np\n",
    "\n",
    "df_obj = pd.DataFrame(np.random.randn(5,4), columns = ['a', 'b', 'c', 'd'])\n",
    "print(df_obj.head())"
   ]
  },
  {
   "cell_type": "code",
   "execution_count": 8,
   "metadata": {
    "collapsed": false
   },
   "outputs": [
    {
     "name": "stdout",
     "output_type": "stream",
     "text": [
      "列索引\n",
      "0   -0.595692\n",
      "1    0.339194\n",
      "2   -0.252306\n",
      "3    0.216677\n",
      "4   -1.099175\n",
      "Name: a, dtype: float64\n",
      "<class 'pandas.core.frame.DataFrame'>\n",
      "不连续索引\n",
      "          a         c\n",
      "0 -0.595692 -0.551327\n",
      "1  0.339194  0.230472\n",
      "2 -0.252306 -0.979523\n",
      "3  0.216677 -0.819607\n",
      "4 -1.099175  0.391421\n",
      "          b         d\n",
      "0  0.813699 -0.059703\n",
      "1 -2.335579 -0.680213\n",
      "2  0.212406  0.408522\n",
      "3  0.574524  2.170009\n",
      "4 -0.665488 -0.400642\n"
     ]
    }
   ],
   "source": [
    "# 列索引\n",
    "print('列索引')\n",
    "print(df_obj['a']) # 返回Series类型\n",
    "print(type(df_obj[[0]])) # 返回DataFrame类型\n",
    "\n",
    "# 不连续索引\n",
    "print('不连续索引')\n",
    "print(df_obj[['a','c']])\n",
    "print(df_obj[[1, 3]])"
   ]
  },
  {
   "cell_type": "markdown",
   "metadata": {},
   "source": [
    "* 三种索引方式"
   ]
  },
  {
   "cell_type": "code",
   "execution_count": 9,
   "metadata": {
    "collapsed": false
   },
   "outputs": [
    {
     "name": "stdout",
     "output_type": "stream",
     "text": [
      "b    1\n",
      "c    2\n",
      "d    3\n",
      "dtype: int32\n",
      "b    1\n",
      "c    2\n",
      "d    3\n",
      "dtype: int32\n",
      "0   -0.595692\n",
      "1    0.339194\n",
      "2   -0.252306\n",
      "3    0.216677\n",
      "4   -1.099175\n",
      "Name: a, dtype: float64\n",
      "0   -0.595692\n",
      "1    0.339194\n",
      "2   -0.252306\n",
      "Name: a, dtype: float64\n"
     ]
    }
   ],
   "source": [
    "# 标签索引 loc\n",
    "# Series\n",
    "print(ser_obj['b':'d'])\n",
    "print(ser_obj.loc['b':'d'])\n",
    "\n",
    "# DataFrame\n",
    "print(df_obj['a'])\n",
    "print(df_obj.loc[0:2, 'a'])"
   ]
  },
  {
   "cell_type": "code",
   "execution_count": 10,
   "metadata": {
    "collapsed": false
   },
   "outputs": [
    {
     "name": "stdout",
     "output_type": "stream",
     "text": [
      "b    1\n",
      "c    2\n",
      "dtype: int32\n",
      "b    1\n",
      "c    2\n",
      "dtype: int32\n",
      "0   -0.595692\n",
      "1    0.339194\n",
      "Name: a, dtype: float64\n"
     ]
    }
   ],
   "source": [
    "# 整型位置索引 iloc\n",
    "print(ser_obj[1:3])\n",
    "print(ser_obj.iloc[1:3])\n",
    "\n",
    "# DataFrame\n",
    "print(df_obj.iloc[0:2, 0]) # 注意和df_obj.loc[0:2, 'a']的区别"
   ]
  },
  {
   "cell_type": "code",
   "execution_count": 11,
   "metadata": {
    "collapsed": false
   },
   "outputs": [
    {
     "name": "stdout",
     "output_type": "stream",
     "text": [
      "b    1\n",
      "c    2\n",
      "dtype: int32\n",
      "b    1\n",
      "c    2\n",
      "dtype: int32\n",
      "0   -0.595692\n",
      "1    0.339194\n",
      "2   -0.252306\n",
      "Name: a, dtype: float64\n"
     ]
    }
   ],
   "source": [
    "# 混合索引 ix\n",
    "print(ser_obj.ix[1:3])\n",
    "print(ser_obj.ix['b':'c'])\n",
    "\n",
    "# DataFrame\n",
    "print(df_obj.ix[0:2, 0]) # 先按标签索引尝试操作，然后再按位置索引尝试操作"
   ]
  },
  {
   "cell_type": "markdown",
   "metadata": {},
   "source": [
    "* 运算与对齐"
   ]
  },
  {
   "cell_type": "code",
   "execution_count": 12,
   "metadata": {
    "collapsed": false
   },
   "outputs": [
    {
     "name": "stdout",
     "output_type": "stream",
     "text": [
      "s1: \n",
      "0    10\n",
      "1    11\n",
      "2    12\n",
      "3    13\n",
      "4    14\n",
      "5    15\n",
      "6    16\n",
      "7    17\n",
      "8    18\n",
      "9    19\n",
      "dtype: int32\n",
      "\n",
      "s2: \n",
      "0    20\n",
      "1    21\n",
      "2    22\n",
      "3    23\n",
      "4    24\n",
      "dtype: int32\n"
     ]
    }
   ],
   "source": [
    "s1 = pd.Series(range(10, 20), index = range(10))\n",
    "s2 = pd.Series(range(20, 25), index = range(5))\n",
    "\n",
    "print('s1: ' )\n",
    "print(s1)\n",
    "\n",
    "print('') \n",
    "\n",
    "print('s2: ')\n",
    "print(s2)"
   ]
  },
  {
   "cell_type": "code",
   "execution_count": 13,
   "metadata": {
    "collapsed": false
   },
   "outputs": [
    {
     "data": {
      "text/plain": [
       "0    30.0\n",
       "1    32.0\n",
       "2    34.0\n",
       "3    36.0\n",
       "4    38.0\n",
       "5     NaN\n",
       "6     NaN\n",
       "7     NaN\n",
       "8     NaN\n",
       "9     NaN\n",
       "dtype: float64"
      ]
     },
     "execution_count": 13,
     "metadata": {},
     "output_type": "execute_result"
    }
   ],
   "source": [
    "# Series 对齐运算\n",
    "s1 + s2"
   ]
  },
  {
   "cell_type": "code",
   "execution_count": 14,
   "metadata": {
    "collapsed": false
   },
   "outputs": [
    {
     "name": "stdout",
     "output_type": "stream",
     "text": [
      "df1: \n",
      "     a    b\n",
      "0  1.0  1.0\n",
      "1  1.0  1.0\n",
      "\n",
      "df2: \n",
      "     a    b    c\n",
      "0  1.0  1.0  1.0\n",
      "1  1.0  1.0  1.0\n",
      "2  1.0  1.0  1.0\n"
     ]
    }
   ],
   "source": [
    "import numpy as np\n",
    "\n",
    "df1 = pd.DataFrame(np.ones((2,2)), columns = ['a', 'b'])\n",
    "df2 = pd.DataFrame(np.ones((3,3)), columns = ['a', 'b', 'c'])\n",
    "\n",
    "print('df1: ')\n",
    "print(df1)\n",
    "\n",
    "print('') \n",
    "print('df2: ')\n",
    "print(df2)"
   ]
  },
  {
   "cell_type": "code",
   "execution_count": 15,
   "metadata": {
    "collapsed": false
   },
   "outputs": [
    {
     "data": {
      "text/html": [
       "<div>\n",
       "<table border=\"1\" class=\"dataframe\">\n",
       "  <thead>\n",
       "    <tr style=\"text-align: right;\">\n",
       "      <th></th>\n",
       "      <th>a</th>\n",
       "      <th>b</th>\n",
       "      <th>c</th>\n",
       "    </tr>\n",
       "  </thead>\n",
       "  <tbody>\n",
       "    <tr>\n",
       "      <th>0</th>\n",
       "      <td>2.0</td>\n",
       "      <td>2.0</td>\n",
       "      <td>NaN</td>\n",
       "    </tr>\n",
       "    <tr>\n",
       "      <th>1</th>\n",
       "      <td>2.0</td>\n",
       "      <td>2.0</td>\n",
       "      <td>NaN</td>\n",
       "    </tr>\n",
       "    <tr>\n",
       "      <th>2</th>\n",
       "      <td>NaN</td>\n",
       "      <td>NaN</td>\n",
       "      <td>NaN</td>\n",
       "    </tr>\n",
       "  </tbody>\n",
       "</table>\n",
       "</div>"
      ],
      "text/plain": [
       "     a    b   c\n",
       "0  2.0  2.0 NaN\n",
       "1  2.0  2.0 NaN\n",
       "2  NaN  NaN NaN"
      ]
     },
     "execution_count": 15,
     "metadata": {},
     "output_type": "execute_result"
    }
   ],
   "source": [
    "# DataFrame对齐操作\n",
    "df1 + df2"
   ]
  },
  {
   "cell_type": "code",
   "execution_count": 16,
   "metadata": {
    "collapsed": false
   },
   "outputs": [
    {
     "name": "stdout",
     "output_type": "stream",
     "text": [
      "0    10\n",
      "1    11\n",
      "2    12\n",
      "3    13\n",
      "4    14\n",
      "5    15\n",
      "6    16\n",
      "7    17\n",
      "8    18\n",
      "9    19\n",
      "dtype: int32\n",
      "0    20\n",
      "1    21\n",
      "2    22\n",
      "3    23\n",
      "4    24\n",
      "dtype: int32\n"
     ]
    },
    {
     "data": {
      "text/plain": [
       "0    30.0\n",
       "1    32.0\n",
       "2    34.0\n",
       "3    36.0\n",
       "4    38.0\n",
       "5    14.0\n",
       "6    15.0\n",
       "7    16.0\n",
       "8    17.0\n",
       "9    18.0\n",
       "dtype: float64"
      ]
     },
     "execution_count": 16,
     "metadata": {},
     "output_type": "execute_result"
    }
   ],
   "source": [
    "# 填充未对齐的数据进行运算\n",
    "print(s1)\n",
    "print(s2)\n",
    "\n",
    "s1.add(s2, fill_value = -1)"
   ]
  },
  {
   "cell_type": "code",
   "execution_count": 17,
   "metadata": {
    "collapsed": false
   },
   "outputs": [
    {
     "data": {
      "text/html": [
       "<div>\n",
       "<table border=\"1\" class=\"dataframe\">\n",
       "  <thead>\n",
       "    <tr style=\"text-align: right;\">\n",
       "      <th></th>\n",
       "      <th>a</th>\n",
       "      <th>b</th>\n",
       "      <th>c</th>\n",
       "    </tr>\n",
       "  </thead>\n",
       "  <tbody>\n",
       "    <tr>\n",
       "      <th>0</th>\n",
       "      <td>0.0</td>\n",
       "      <td>0.0</td>\n",
       "      <td>1.0</td>\n",
       "    </tr>\n",
       "    <tr>\n",
       "      <th>1</th>\n",
       "      <td>0.0</td>\n",
       "      <td>0.0</td>\n",
       "      <td>1.0</td>\n",
       "    </tr>\n",
       "    <tr>\n",
       "      <th>2</th>\n",
       "      <td>1.0</td>\n",
       "      <td>1.0</td>\n",
       "      <td>1.0</td>\n",
       "    </tr>\n",
       "  </tbody>\n",
       "</table>\n",
       "</div>"
      ],
      "text/plain": [
       "     a    b    c\n",
       "0  0.0  0.0  1.0\n",
       "1  0.0  0.0  1.0\n",
       "2  1.0  1.0  1.0"
      ]
     },
     "execution_count": 17,
     "metadata": {},
     "output_type": "execute_result"
    }
   ],
   "source": [
    "df1.sub(df2, fill_value = 2.)"
   ]
  },
  {
   "cell_type": "code",
   "execution_count": 18,
   "metadata": {
    "collapsed": false
   },
   "outputs": [
    {
     "name": "stdout",
     "output_type": "stream",
     "text": [
      "0    30.0\n",
      "1    32.0\n",
      "2    34.0\n",
      "3    36.0\n",
      "4    38.0\n",
      "5     NaN\n",
      "6     NaN\n",
      "7     NaN\n",
      "8     NaN\n",
      "9     NaN\n",
      "dtype: float64\n"
     ]
    }
   ],
   "source": [
    "# 填充NaN\n",
    "s3 = s1 + s2\n",
    "print(s3)"
   ]
  },
  {
   "cell_type": "code",
   "execution_count": 19,
   "metadata": {
    "collapsed": false
   },
   "outputs": [
    {
     "name": "stdout",
     "output_type": "stream",
     "text": [
      "0    30.0\n",
      "1    32.0\n",
      "2    34.0\n",
      "3    36.0\n",
      "4    38.0\n",
      "5    -1.0\n",
      "6    -1.0\n",
      "7    -1.0\n",
      "8    -1.0\n",
      "9    -1.0\n",
      "dtype: float64\n"
     ]
    }
   ],
   "source": [
    "s3_filled = s3.fillna(-1)\n",
    "print(s3_filled)"
   ]
  },
  {
   "cell_type": "code",
   "execution_count": 20,
   "metadata": {
    "collapsed": false
   },
   "outputs": [
    {
     "name": "stdout",
     "output_type": "stream",
     "text": [
      "     a    b   c\n",
      "0  2.0  2.0 NaN\n",
      "1  2.0  2.0 NaN\n",
      "2  NaN  NaN NaN\n"
     ]
    }
   ],
   "source": [
    "df3 = df1 + df2\n",
    "print(df3)"
   ]
  },
  {
   "cell_type": "code",
   "execution_count": 21,
   "metadata": {
    "collapsed": false
   },
   "outputs": [
    {
     "name": "stdout",
     "output_type": "stream",
     "text": [
      "       a      b      c\n",
      "0    2.0    2.0  100.0\n",
      "1    2.0    2.0  100.0\n",
      "2  100.0  100.0  100.0\n"
     ]
    }
   ],
   "source": [
    "df3.fillna(100, inplace = True)\n",
    "print(df3)"
   ]
  },
  {
   "cell_type": "markdown",
   "metadata": {},
   "source": [
    "* 函数应用"
   ]
  },
  {
   "cell_type": "code",
   "execution_count": 22,
   "metadata": {
    "collapsed": false
   },
   "outputs": [
    {
     "name": "stdout",
     "output_type": "stream",
     "text": [
      "          0         1         2         3\n",
      "0 -2.193022 -2.090432 -2.288651 -0.026022\n",
      "1 -0.720957 -1.501025 -1.734828 -1.858286\n",
      "2  0.300216 -3.391127 -0.872570 -0.686669\n",
      "3 -2.552131 -1.452268 -1.188845 -0.597845\n",
      "4  2.111044 -1.203676 -1.143487 -0.542755\n",
      "          0         1         2         3\n",
      "0  2.193022  2.090432  2.288651  0.026022\n",
      "1  0.720957  1.501025  1.734828  1.858286\n",
      "2  0.300216  3.391127  0.872570  0.686669\n",
      "3  2.552131  1.452268  1.188845  0.597845\n",
      "4  2.111044  1.203676  1.143487  0.542755\n"
     ]
    }
   ],
   "source": [
    "# Numpy ufunc 函数\n",
    "df = pd.DataFrame(np.random.randn(5,4) - 1)\n",
    "print(df)\n",
    "\n",
    "print(np.abs(df))"
   ]
  },
  {
   "cell_type": "code",
   "execution_count": 23,
   "metadata": {
    "collapsed": false
   },
   "outputs": [
    {
     "name": "stdout",
     "output_type": "stream",
     "text": [
      "0    2.111044\n",
      "1   -1.203676\n",
      "2   -0.872570\n",
      "3   -0.026022\n",
      "dtype: float64\n"
     ]
    }
   ],
   "source": [
    "# 使用apply应用行或列数据\n",
    "#f = lambda x : x.max()\n",
    "print(df.apply(lambda x : x.max()))"
   ]
  },
  {
   "cell_type": "code",
   "execution_count": 24,
   "metadata": {
    "collapsed": false
   },
   "outputs": [
    {
     "name": "stdout",
     "output_type": "stream",
     "text": [
      "0   -0.026022\n",
      "1   -0.720957\n",
      "2    0.300216\n",
      "3   -0.597845\n",
      "4    2.111044\n",
      "dtype: float64\n"
     ]
    }
   ],
   "source": [
    "# 指定轴方向\n",
    "print(df.apply(lambda x : x.max(), axis=1))"
   ]
  },
  {
   "cell_type": "code",
   "execution_count": 25,
   "metadata": {
    "collapsed": false
   },
   "outputs": [
    {
     "name": "stdout",
     "output_type": "stream",
     "text": [
      "       0      1      2      3\n",
      "0  -2.19  -2.09  -2.29  -0.03\n",
      "1  -0.72  -1.50  -1.73  -1.86\n",
      "2   0.30  -3.39  -0.87  -0.69\n",
      "3  -2.55  -1.45  -1.19  -0.60\n",
      "4   2.11  -1.20  -1.14  -0.54\n"
     ]
    }
   ],
   "source": [
    "# 使用applymap应用到每个数据\n",
    "f2 = lambda x : '%.2f' % x\n",
    "print(df.applymap(f2))"
   ]
  },
  {
   "cell_type": "markdown",
   "metadata": {},
   "source": [
    "* 排序"
   ]
  },
  {
   "cell_type": "code",
   "execution_count": 26,
   "metadata": {
    "collapsed": false
   },
   "outputs": [
    {
     "name": "stdout",
     "output_type": "stream",
     "text": [
      "4    10\n",
      "3    11\n",
      "1    12\n",
      "4    13\n",
      "4    14\n",
      "dtype: int32\n"
     ]
    }
   ],
   "source": [
    "s4 = pd.Series(range(10, 15), index = np.random.randint(5, size=5))\n",
    "print(s4)"
   ]
  },
  {
   "cell_type": "code",
   "execution_count": 27,
   "metadata": {
    "collapsed": false
   },
   "outputs": [
    {
     "data": {
      "text/plain": [
       "1    12\n",
       "3    11\n",
       "4    10\n",
       "4    13\n",
       "4    14\n",
       "dtype: int32"
      ]
     },
     "execution_count": 27,
     "metadata": {},
     "output_type": "execute_result"
    }
   ],
   "source": [
    "# 索引排序\n",
    "s4.sort_index()"
   ]
  },
  {
   "cell_type": "code",
   "execution_count": 28,
   "metadata": {
    "collapsed": false
   },
   "outputs": [
    {
     "name": "stdout",
     "output_type": "stream",
     "text": [
      "          3         2         2         1\n",
      "2  0.244068 -1.977220  0.045238 -2.064546\n",
      "2  0.218196 -0.419284 -0.698839  0.241649\n",
      "2  0.296747 -0.021311  0.225724 -0.325439\n"
     ]
    }
   ],
   "source": [
    "df4 = pd.DataFrame(np.random.randn(3, 4), \n",
    "                   index=np.random.randint(3, size=3),\n",
    "                   columns=np.random.randint(4, size=4))\n",
    "print(df4)"
   ]
  },
  {
   "cell_type": "code",
   "execution_count": 29,
   "metadata": {
    "collapsed": false
   },
   "outputs": [
    {
     "data": {
      "text/html": [
       "<div>\n",
       "<table border=\"1\" class=\"dataframe\">\n",
       "  <thead>\n",
       "    <tr style=\"text-align: right;\">\n",
       "      <th></th>\n",
       "      <th>1</th>\n",
       "      <th>2</th>\n",
       "      <th>2</th>\n",
       "      <th>3</th>\n",
       "    </tr>\n",
       "  </thead>\n",
       "  <tbody>\n",
       "    <tr>\n",
       "      <th>2</th>\n",
       "      <td>-2.064546</td>\n",
       "      <td>-1.977220</td>\n",
       "      <td>0.045238</td>\n",
       "      <td>0.244068</td>\n",
       "    </tr>\n",
       "    <tr>\n",
       "      <th>2</th>\n",
       "      <td>0.241649</td>\n",
       "      <td>-0.419284</td>\n",
       "      <td>-0.698839</td>\n",
       "      <td>0.218196</td>\n",
       "    </tr>\n",
       "    <tr>\n",
       "      <th>2</th>\n",
       "      <td>-0.325439</td>\n",
       "      <td>-0.021311</td>\n",
       "      <td>0.225724</td>\n",
       "      <td>0.296747</td>\n",
       "    </tr>\n",
       "  </tbody>\n",
       "</table>\n",
       "</div>"
      ],
      "text/plain": [
       "          1         2         2         3\n",
       "2 -2.064546 -1.977220  0.045238  0.244068\n",
       "2  0.241649 -0.419284 -0.698839  0.218196\n",
       "2 -0.325439 -0.021311  0.225724  0.296747"
      ]
     },
     "execution_count": 29,
     "metadata": {},
     "output_type": "execute_result"
    }
   ],
   "source": [
    "#df4.sort_index(ascending=False)\n",
    "df4.sort_index(axis=1)"
   ]
  },
  {
   "cell_type": "code",
   "execution_count": 30,
   "metadata": {
    "collapsed": false
   },
   "outputs": [
    {
     "data": {
      "text/html": [
       "<div>\n",
       "<table border=\"1\" class=\"dataframe\">\n",
       "  <thead>\n",
       "    <tr style=\"text-align: right;\">\n",
       "      <th></th>\n",
       "      <th>3</th>\n",
       "      <th>2</th>\n",
       "      <th>2</th>\n",
       "      <th>1</th>\n",
       "    </tr>\n",
       "  </thead>\n",
       "  <tbody>\n",
       "    <tr>\n",
       "      <th>2</th>\n",
       "      <td>0.244068</td>\n",
       "      <td>-1.977220</td>\n",
       "      <td>0.045238</td>\n",
       "      <td>-2.064546</td>\n",
       "    </tr>\n",
       "    <tr>\n",
       "      <th>2</th>\n",
       "      <td>0.296747</td>\n",
       "      <td>-0.021311</td>\n",
       "      <td>0.225724</td>\n",
       "      <td>-0.325439</td>\n",
       "    </tr>\n",
       "    <tr>\n",
       "      <th>2</th>\n",
       "      <td>0.218196</td>\n",
       "      <td>-0.419284</td>\n",
       "      <td>-0.698839</td>\n",
       "      <td>0.241649</td>\n",
       "    </tr>\n",
       "  </tbody>\n",
       "</table>\n",
       "</div>"
      ],
      "text/plain": [
       "          3         2         2         1\n",
       "2  0.244068 -1.977220  0.045238 -2.064546\n",
       "2  0.296747 -0.021311  0.225724 -0.325439\n",
       "2  0.218196 -0.419284 -0.698839  0.241649"
      ]
     },
     "execution_count": 30,
     "metadata": {},
     "output_type": "execute_result"
    }
   ],
   "source": [
    "# 按值排序\n",
    "df4.sort_values(by=1)"
   ]
  },
  {
   "cell_type": "markdown",
   "metadata": {
    "collapsed": true
   },
   "source": [
    "* 处理缺失数据"
   ]
  },
  {
   "cell_type": "code",
   "execution_count": 31,
   "metadata": {
    "collapsed": false
   },
   "outputs": [
    {
     "data": {
      "text/html": [
       "<div>\n",
       "<table border=\"1\" class=\"dataframe\">\n",
       "  <thead>\n",
       "    <tr style=\"text-align: right;\">\n",
       "      <th></th>\n",
       "      <th>0</th>\n",
       "      <th>1</th>\n",
       "      <th>2</th>\n",
       "    </tr>\n",
       "  </thead>\n",
       "  <tbody>\n",
       "    <tr>\n",
       "      <th>0</th>\n",
       "      <td>1.619463</td>\n",
       "      <td>0.548047</td>\n",
       "      <td>-1.027003</td>\n",
       "    </tr>\n",
       "    <tr>\n",
       "      <th>1</th>\n",
       "      <td>1.000000</td>\n",
       "      <td>NaN</td>\n",
       "      <td>NaN</td>\n",
       "    </tr>\n",
       "    <tr>\n",
       "      <th>2</th>\n",
       "      <td>4.000000</td>\n",
       "      <td>NaN</td>\n",
       "      <td>NaN</td>\n",
       "    </tr>\n",
       "    <tr>\n",
       "      <th>3</th>\n",
       "      <td>1.000000</td>\n",
       "      <td>NaN</td>\n",
       "      <td>2.000000</td>\n",
       "    </tr>\n",
       "  </tbody>\n",
       "</table>\n",
       "</div>"
      ],
      "text/plain": [
       "          0         1         2\n",
       "0  1.619463  0.548047 -1.027003\n",
       "1  1.000000       NaN       NaN\n",
       "2  4.000000       NaN       NaN\n",
       "3  1.000000       NaN  2.000000"
      ]
     },
     "execution_count": 31,
     "metadata": {},
     "output_type": "execute_result"
    }
   ],
   "source": [
    "df_data = pd.DataFrame([np.random.randn(3), [1., np.nan, np.nan],\n",
    "                       [4., np.nan, np.nan], [1., np.nan, 2.]])\n",
    "df_data.head()"
   ]
  },
  {
   "cell_type": "code",
   "execution_count": 32,
   "metadata": {
    "collapsed": false
   },
   "outputs": [
    {
     "data": {
      "text/html": [
       "<div>\n",
       "<table border=\"1\" class=\"dataframe\">\n",
       "  <thead>\n",
       "    <tr style=\"text-align: right;\">\n",
       "      <th></th>\n",
       "      <th>0</th>\n",
       "      <th>1</th>\n",
       "      <th>2</th>\n",
       "    </tr>\n",
       "  </thead>\n",
       "  <tbody>\n",
       "    <tr>\n",
       "      <th>0</th>\n",
       "      <td>False</td>\n",
       "      <td>False</td>\n",
       "      <td>False</td>\n",
       "    </tr>\n",
       "    <tr>\n",
       "      <th>1</th>\n",
       "      <td>False</td>\n",
       "      <td>True</td>\n",
       "      <td>True</td>\n",
       "    </tr>\n",
       "    <tr>\n",
       "      <th>2</th>\n",
       "      <td>False</td>\n",
       "      <td>True</td>\n",
       "      <td>True</td>\n",
       "    </tr>\n",
       "    <tr>\n",
       "      <th>3</th>\n",
       "      <td>False</td>\n",
       "      <td>True</td>\n",
       "      <td>False</td>\n",
       "    </tr>\n",
       "  </tbody>\n",
       "</table>\n",
       "</div>"
      ],
      "text/plain": [
       "       0      1      2\n",
       "0  False  False  False\n",
       "1  False   True   True\n",
       "2  False   True   True\n",
       "3  False   True  False"
      ]
     },
     "execution_count": 32,
     "metadata": {},
     "output_type": "execute_result"
    }
   ],
   "source": [
    "# isnull\n",
    "df_data.isnull()"
   ]
  },
  {
   "cell_type": "code",
   "execution_count": 33,
   "metadata": {
    "collapsed": false
   },
   "outputs": [
    {
     "data": {
      "text/html": [
       "<div>\n",
       "<table border=\"1\" class=\"dataframe\">\n",
       "  <thead>\n",
       "    <tr style=\"text-align: right;\">\n",
       "      <th></th>\n",
       "      <th>0</th>\n",
       "      <th>1</th>\n",
       "      <th>2</th>\n",
       "    </tr>\n",
       "  </thead>\n",
       "  <tbody>\n",
       "    <tr>\n",
       "      <th>0</th>\n",
       "      <td>1.619463</td>\n",
       "      <td>0.548047</td>\n",
       "      <td>-1.027003</td>\n",
       "    </tr>\n",
       "  </tbody>\n",
       "</table>\n",
       "</div>"
      ],
      "text/plain": [
       "          0         1         2\n",
       "0  1.619463  0.548047 -1.027003"
      ]
     },
     "execution_count": 33,
     "metadata": {},
     "output_type": "execute_result"
    }
   ],
   "source": [
    "# dropna\n",
    "df_data.dropna()\n",
    "#df_data.dropna(axis=1)"
   ]
  },
  {
   "cell_type": "code",
   "execution_count": 34,
   "metadata": {
    "collapsed": false
   },
   "outputs": [
    {
     "data": {
      "text/html": [
       "<div>\n",
       "<table border=\"1\" class=\"dataframe\">\n",
       "  <thead>\n",
       "    <tr style=\"text-align: right;\">\n",
       "      <th></th>\n",
       "      <th>0</th>\n",
       "      <th>1</th>\n",
       "      <th>2</th>\n",
       "    </tr>\n",
       "  </thead>\n",
       "  <tbody>\n",
       "    <tr>\n",
       "      <th>0</th>\n",
       "      <td>1.619463</td>\n",
       "      <td>0.548047</td>\n",
       "      <td>-1.027003</td>\n",
       "    </tr>\n",
       "    <tr>\n",
       "      <th>1</th>\n",
       "      <td>1.000000</td>\n",
       "      <td>-100.000000</td>\n",
       "      <td>-100.000000</td>\n",
       "    </tr>\n",
       "    <tr>\n",
       "      <th>2</th>\n",
       "      <td>4.000000</td>\n",
       "      <td>-100.000000</td>\n",
       "      <td>-100.000000</td>\n",
       "    </tr>\n",
       "    <tr>\n",
       "      <th>3</th>\n",
       "      <td>1.000000</td>\n",
       "      <td>-100.000000</td>\n",
       "      <td>2.000000</td>\n",
       "    </tr>\n",
       "  </tbody>\n",
       "</table>\n",
       "</div>"
      ],
      "text/plain": [
       "          0           1           2\n",
       "0  1.619463    0.548047   -1.027003\n",
       "1  1.000000 -100.000000 -100.000000\n",
       "2  4.000000 -100.000000 -100.000000\n",
       "3  1.000000 -100.000000    2.000000"
      ]
     },
     "execution_count": 34,
     "metadata": {},
     "output_type": "execute_result"
    }
   ],
   "source": [
    "# fillna\n",
    "df_data.fillna(-100.)"
   ]
  },
  {
   "cell_type": "code",
   "execution_count": null,
   "metadata": {
    "collapsed": true
   },
   "outputs": [],
   "source": []
  }
 ],
 "metadata": {
  "anaconda-cloud": {},
  "kernelspec": {
   "display_name": "Python [conda env:py35]",
   "language": "python",
   "name": "conda-env-py35-py"
  },
  "language_info": {
   "codemirror_mode": {
    "name": "ipython",
    "version": 3
   },
   "file_extension": ".py",
   "mimetype": "text/x-python",
   "name": "python",
   "nbconvert_exporter": "python",
   "pygments_lexer": "ipython3",
   "version": "3.5.2"
  }
 },
 "nbformat": 4,
 "nbformat_minor": 1
}
