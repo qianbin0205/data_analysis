{
 "cells": [
  {
   "cell_type": "code",
   "execution_count": null,
   "metadata": {},
   "outputs": [
    {
     "name": "stdout",
     "output_type": "stream",
     "text": [
      "--Return--\n",
      "> <ipython-input-2-87e8ec5dc950>(5)<module>()->None\n",
      "-> pdb.set_trace()\n"
     ]
    }
   ],
   "source": [
    "# -*- coding: utf-8 -*-\n",
    "\n",
    "import numpy as np\n",
    "import pdb\n",
    "pdb.set_trace()\n",
    "# 模拟数据\n",
    "t = np.linspace(1, 100, 100)\n",
    "a = 0.5\n",
    "position = (a * t ** 2) / 2\n",
    "position_noise = position + np.random.normal(0, 120, size=(t.shape[0]))\n"
   ]
  },
  {
   "cell_type": "code",
   "execution_count": 11,
   "metadata": {},
   "outputs": [
    {
     "data": {
      "text/plain": [
       "[<matplotlib.lines.Line2D at 0x23a8015e240>]"
      ]
     },
     "execution_count": 11,
     "metadata": {},
     "output_type": "execute_result"
    }
   ],
   "source": [
    "import matplotlib.pyplot as plt\n",
    "\n",
    "plt.plot(t, position, label='truth position')\n",
    "plt.plot(t, position_noise, label='only use measured position')\n",
    "\n"
   ]
  },
  {
   "cell_type": "code",
   "execution_count": 12,
   "metadata": {},
   "outputs": [],
   "source": [
    "# 初试的估计导弹的位置就直接用GPS测量的位置\n",
    "predicts = [position_noise[0]]\n",
    "position_predict = predicts[0]\n",
    "\n",
    "predict_var = 0\n",
    "odo_var = 120 ** 2  # 这是我们自己设定的位置测量仪器的方差，越大则测量值占比越低\n",
    "v_std = 50  # 测量仪器的方差\n",
    "for i in range(1, t.shape[0]):\n",
    "    dv = (position[i] - position[i - 1]) + np.random.normal(0, 50)  # 模拟从IMU读取出的速度\n",
    "    position_predict = position_predict + dv  # 利用上个时刻的位置和速度预测当前位置\n",
    "    predict_var += v_std ** 2  # 更新预测数据的方差\n",
    "    # 下面是Kalman滤波\n",
    "    position_predict = position_predict * odo_var / (predict_var + odo_var) + position_noise[i] * predict_var / (\n",
    "            predict_var + odo_var)\n",
    "    predict_var = (predict_var * odo_var) / (predict_var + odo_var) ** 2\n",
    "    predicts.append(position_predict)\n",
    "\n",
    "plt.plot(t, predicts, label='kalman filtered position')\n",
    "\n",
    "plt.legend()\n",
    "plt.show()"
   ]
  },
  {
   "cell_type": "code",
   "execution_count": null,
   "metadata": {},
   "outputs": [],
   "source": []
  }
 ],
 "metadata": {
  "kernelspec": {
   "display_name": "Python 3",
   "language": "python",
   "name": "python3"
  },
  "language_info": {
   "codemirror_mode": {
    "name": "ipython",
    "version": 3
   },
   "file_extension": ".py",
   "mimetype": "text/x-python",
   "name": "python",
   "nbconvert_exporter": "python",
   "pygments_lexer": "ipython3",
   "version": "3.6.5"
  }
 },
 "nbformat": 4,
 "nbformat_minor": 1
}
